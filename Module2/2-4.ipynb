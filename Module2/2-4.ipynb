{
 "cells": [
  {
   "cell_type": "markdown",
   "metadata": {},
   "source": [
    "| | |\n",
    "|:---|:---|\n",
    "| | |"
   ]
  },
  {
   "cell_type": "markdown",
   "metadata": {},
   "source": [
    "算術運算子"
   ]
  },
  {
   "cell_type": "code",
   "execution_count": 3,
   "metadata": {},
   "outputs": [
    {
     "name": "stdout",
     "output_type": "stream",
     "text": [
      "3\n",
      "100\n",
      "0\n"
     ]
    }
   ],
   "source": [
    "x = 10\n",
    "y = 2\n",
    "z = 3\n",
    "\n",
    "print(x // z)\n",
    "print(x**y)\n",
    "print(x % y)"
   ]
  },
  {
   "cell_type": "markdown",
   "metadata": {},
   "source": [
    "賦值運算子"
   ]
  },
  {
   "cell_type": "code",
   "execution_count": 4,
   "metadata": {},
   "outputs": [
    {
     "name": "stdout",
     "output_type": "stream",
     "text": [
      "12\n"
     ]
    }
   ],
   "source": [
    "x += y\n",
    "print(x)"
   ]
  },
  {
   "cell_type": "markdown",
   "metadata": {},
   "source": [
    "比較運算子 (用 if 判斷)"
   ]
  },
  {
   "cell_type": "code",
   "execution_count": 5,
   "metadata": {},
   "outputs": [
    {
     "name": "stdout",
     "output_type": "stream",
     "text": [
      "12  is even\n"
     ]
    }
   ],
   "source": [
    "if (x % 2 == 0):\n",
    "    print(x, ' is even')\n",
    "elif (x % 2 != 0):\n",
    "    print(x, ' is odd')"
   ]
  },
  {
   "cell_type": "markdown",
   "metadata": {},
   "source": [
    "邏輯運算子 and / or / not"
   ]
  },
  {
   "cell_type": "code",
   "execution_count": 6,
   "metadata": {},
   "outputs": [
    {
     "name": "stdout",
     "output_type": "stream",
     "text": [
      "x is a positive even number\n"
     ]
    }
   ],
   "source": [
    "if (x % y == 0 and x > 0):\n",
    "    print('x is a positive even number')\n",
    "elif (x % y == 0 and x < 0):\n",
    "    print('x is a negative even number')\n",
    "elif (x % y != 0):\n",
    "    print('x is odd')"
   ]
  },
  {
   "cell_type": "markdown",
   "metadata": {},
   "source": [
    "成員運算子 in / not in"
   ]
  },
  {
   "cell_type": "code",
   "execution_count": 7,
   "metadata": {},
   "outputs": [
    {
     "name": "stdout",
     "output_type": "stream",
     "text": [
      "True\n",
      "True\n"
     ]
    }
   ],
   "source": [
    "li = [1, 2, 'li', 4.5]\n",
    "print('li' in li)\n",
    "print(4.5 in li)"
   ]
  },
  {
   "cell_type": "markdown",
   "metadata": {},
   "source": [
    "身分運算子 is / is not"
   ]
  },
  {
   "cell_type": "code",
   "execution_count": 12,
   "metadata": {},
   "outputs": [
    {
     "name": "stdout",
     "output_type": "stream",
     "text": [
      "nothing\n",
      "False\n"
     ]
    }
   ],
   "source": [
    "li1 = [1, li, 'test']\n",
    "if li == li1:\n",
    "    print('pass')\n",
    "if li is li1:\n",
    "    print('fail')\n",
    "else:\n",
    "    print('nothing')\n",
    "\n",
    "print(id(li) is id(li1))"
   ]
  },
  {
   "cell_type": "markdown",
   "metadata": {},
   "source": [
    "位元運算子"
   ]
  },
  {
   "cell_type": "code",
   "execution_count": 17,
   "metadata": {},
   "outputs": [
    {
     "name": "stdout",
     "output_type": "stream",
     "text": [
      "5\n",
      "1\n",
      "2\n",
      "8\n"
     ]
    }
   ],
   "source": [
    "x = 1\n",
    "y = 5\n",
    "print(x | y)\n",
    "print(x & y)\n",
    "print(x << 1)\n",
    "print(x<<3)"
   ]
  }
 ],
 "metadata": {
  "kernelspec": {
   "display_name": "Python 3",
   "language": "python",
   "name": "python3"
  },
  "language_info": {
   "codemirror_mode": {
    "name": "ipython",
    "version": 3
   },
   "file_extension": ".py",
   "mimetype": "text/x-python",
   "name": "python",
   "nbconvert_exporter": "python",
   "pygments_lexer": "ipython3",
   "version": "3.13.0"
  }
 },
 "nbformat": 4,
 "nbformat_minor": 2
}
