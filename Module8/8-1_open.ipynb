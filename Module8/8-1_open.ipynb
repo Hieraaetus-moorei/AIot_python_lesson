{
 "cells": [
  {
   "cell_type": "markdown",
   "metadata": {},
   "source": [
    "##### `open()` 函式\n",
    "|`\"r\"`|`\"a\"`|`\"w\"`|`\"x\"`|`\"t\"`|`\"b\"`|\n",
    "|:--:|:--:|:--:|:--:|:--:|:--:|\n",
    "|read|append|write|create|text|binary|"
   ]
  },
  {
   "cell_type": "markdown",
   "metadata": {},
   "source": [
    "##### 讀取檔案 read( )"
   ]
  },
  {
   "cell_type": "code",
   "execution_count": 6,
   "metadata": {},
   "outputs": [
    {
     "name": "stdout",
     "output_type": "stream",
     "text": [
      "==================================================\n",
      "abc0182.cc\n",
      "abc0102.cc\n",
      "abc0281.cc\n",
      "abc0134.c\n",
      "abc0238.cc\n",
      "abc0244.c\n",
      "abc0157.css\n",
      "abc0116.c\n",
      "abc0245.cc\n",
      "abc0187.cc\n",
      "abc0202.c\n",
      "abc0285.cc\n",
      "abc0220.cc\n",
      "abc0174.css\n",
      "abc0140.c\n",
      "abc0176.c\n",
      "abc0174.css\n",
      "abc0244.css\n",
      "abc0289.css\n",
      "abc0175.c\n",
      "\n",
      "[]\n"
     ]
    }
   ],
   "source": [
    "# 印出 50 個 \"=\"\n",
    "print('=' * 50)\n",
    "\n",
    "# 讀取檔案內容 - 常用的寫法 (執行完畢會自動關閉檔案)\n",
    "with open(file='data.txt', mode = 'r', encoding='utf-8') as f:\n",
    "    print(f.read()) # 全印\n",
    "    print(f.readline()) # 印單行\n",
    "    print(f.readlines()) # 多行存入 list\n",
    "\n",
    "# 印出 50 個 \"=\"\n",
    "\n",
    "\n"
   ]
  },
  {
   "cell_type": "code",
   "execution_count": null,
   "metadata": {},
   "outputs": [],
   "source": [
    "# 一行一行讀取\n",
    "\n"
   ]
  },
  {
   "cell_type": "code",
   "execution_count": null,
   "metadata": {},
   "outputs": [],
   "source": [
    "# 資料處理\n",
    "\n"
   ]
  },
  {
   "cell_type": "markdown",
   "metadata": {},
   "source": [
    "##### 寫入檔案 write( )"
   ]
  },
  {
   "cell_type": "code",
   "execution_count": 7,
   "metadata": {},
   "outputs": [],
   "source": [
    "# 文字內容\n",
    "text = '''\n",
    "傑出的人會努力規劃自己的人生，普通的人則是隨便命運怎麼安排   \n",
    "一個是充實、有目的的過每一天，一個是隨興的過一天算一天\n",
    "創業這條路 Michael E.Gerber\n",
    "'''\n",
    "\n",
    "# 寫入檔案\n",
    "\n",
    "with open (file='text.txt', mode = 'w', encoding='utf-8') as f:\n",
    "    f.write(text)\n",
    "\n"
   ]
  },
  {
   "cell_type": "code",
   "execution_count": 8,
   "metadata": {},
   "outputs": [],
   "source": [
    "# 寫入資料到最後一行 (附加文字在檔案內容最後一行)\n",
    "\n",
    "text = \"People say that success just happens to you. It doesn't!\"\n",
    "with open (file = 'text.txt', mode = 'a', encoding='utf-8') as f:\n",
    "    f.write(text)\n",
    "\n",
    "\n"
   ]
  }
 ],
 "metadata": {
  "kernelspec": {
   "display_name": "Python 3",
   "language": "python",
   "name": "python3"
  },
  "language_info": {
   "codemirror_mode": {
    "name": "ipython",
    "version": 3
   },
   "file_extension": ".py",
   "mimetype": "text/x-python",
   "name": "python",
   "nbconvert_exporter": "python",
   "pygments_lexer": "ipython3",
   "version": "3.13.0"
  }
 },
 "nbformat": 4,
 "nbformat_minor": 2
}
