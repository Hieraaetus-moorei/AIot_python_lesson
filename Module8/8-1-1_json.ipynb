{
 "cells": [
  {
   "cell_type": "markdown",
   "metadata": {},
   "source": [
    "### `json` 套件"
   ]
  },
  {
   "cell_type": "markdown",
   "metadata": {},
   "source": [
    "| 用法 | 說明 |\n",
    "| :--: | :--: |\n",
    "| `json.dump(${object}, ${file}, [ensure_ascii=False, indent=${數字}])` | 物件轉JSON並寫入文件 |\n",
    "| `json.dumps()` | 物件轉 JSON 字串 |\n",
    "| `json.load()` | 讀取JSON文件 |\n",
    "| `json.loads()` | 將 JSON 字串轉成 Python 物件 |\n",
    "\n",
    "_`loads` 與 `dumps` 的 `s` 指 **string**_"
   ]
  },
  {
   "cell_type": "code",
   "execution_count": 8,
   "metadata": {},
   "outputs": [],
   "source": [
    "import json\n",
    "\n",
    "# 先建要寫入檔案的東西\n",
    "fruit_dict = {    \n",
    "    'apple': {\n",
    "        'price': 100,\n",
    "        'quantity': 50,\n",
    "        'color': ['greem', 'red']\n",
    "    },\n",
    "    'orange': {\n",
    "        'price': 50,\n",
    "        'quantity': 30,\n",
    "        'color': 'orange' # 錯誤的寫法\n",
    "    }\n",
    "}\n",
    "\n",
    "# 將上方 dictionary 寫入檔案\n",
    "with open (file='data_list.json', mode='w') as f:\n",
    "    # indent: 縮排空格數\n",
    "    json.dump(fruit_dict, f, indent=2)\n",
    "\n",
    "\n",
    "\n"
   ]
  },
  {
   "cell_type": "code",
   "execution_count": 10,
   "metadata": {},
   "outputs": [
    {
     "name": "stdout",
     "output_type": "stream",
     "text": [
      "{\n",
      "  \"apple\": {\n",
      "    \"price\": 100,\n",
      "    \"quantity\": 50,\n",
      "    \"color\": [\n",
      "      \"greem\",\n",
      "      \"red\"\n",
      "    ]\n",
      "  },\n",
      "  \"orange\": {\n",
      "    \"price\": 50,\n",
      "    \"quantity\": 30,\n",
      "    \"color\": \"orange\"\n",
      "  }\n",
      "}\n"
     ]
    }
   ],
   "source": [
    "# 開啟上方寫出的 json 檔\n",
    "with open ('data_list.json', mode = 'r', encoding='utf-8') as f:\n",
    "    # 讀入檔案\n",
    "    data = f.read()\n",
    "    # 將 json 讀入的 string 轉成 json (dictionary)\n",
    "    data_list = json.loads(data)\n",
    "print(data)\n",
    "\n"
   ]
  }
 ],
 "metadata": {
  "kernelspec": {
   "display_name": "Python 3",
   "language": "python",
   "name": "python3"
  },
  "language_info": {
   "codemirror_mode": {
    "name": "ipython",
    "version": 3
   },
   "file_extension": ".py",
   "mimetype": "text/x-python",
   "name": "python",
   "nbconvert_exporter": "python",
   "pygments_lexer": "ipython3",
   "version": "3.13.0"
  }
 },
 "nbformat": 4,
 "nbformat_minor": 2
}
