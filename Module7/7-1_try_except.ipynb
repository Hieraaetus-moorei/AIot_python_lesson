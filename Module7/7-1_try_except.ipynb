{
 "cells": [
  {
   "cell_type": "markdown",
   "metadata": {},
   "source": [
    "##### try...except..."
   ]
  },
  {
   "cell_type": "code",
   "execution_count": 3,
   "metadata": {},
   "outputs": [
    {
     "name": "stdout",
     "output_type": "stream",
     "text": [
      "Input a larger number\n",
      "Input out of range\n",
      "Input out of range\n",
      "Please input a number\n",
      "Bingo!\n"
     ]
    }
   ],
   "source": [
    "answer = 25\n",
    "\n",
    "while True:\n",
    "    try:\n",
    "        user_input = int(input('input 1-100: '))\n",
    "    except ValueError:\n",
    "        print('Please input a number')\n",
    "        # 避免下方判斷繼續執行，因 user_input 尚未成功定義\n",
    "        continue\n",
    "    if user_input == answer:\n",
    "        print('Bingo!')\n",
    "        break\n",
    "    elif user_input < 0 or user_input > 100:\n",
    "        print('Input out of range')\n",
    "    elif user_input > answer:\n",
    "        print('Input a smaller number')\n",
    "    elif user_input < answer:\n",
    "        print('Input a larger number')\n",
    "\n",
    "\n",
    "\n"
   ]
  },
  {
   "cell_type": "code",
   "execution_count": null,
   "metadata": {},
   "outputs": [],
   "source": [
    "# 多層例外處理:\n",
    "\n"
   ]
  },
  {
   "cell_type": "markdown",
   "metadata": {},
   "source": [
    "##### try...except...else...finally"
   ]
  },
  {
   "cell_type": "code",
   "execution_count": null,
   "metadata": {},
   "outputs": [],
   "source": [
    "# 如果沒有錯誤，就會執行 else 程式區塊\n",
    "# finally 程式區塊是無論有無錯誤，都會執行\n",
    "\n",
    "\n"
   ]
  }
 ],
 "metadata": {
  "kernelspec": {
   "display_name": "Python 3",
   "language": "python",
   "name": "python3"
  },
  "language_info": {
   "codemirror_mode": {
    "name": "ipython",
    "version": 3
   },
   "file_extension": ".py",
   "mimetype": "text/x-python",
   "name": "python",
   "nbconvert_exporter": "python",
   "pygments_lexer": "ipython3",
   "version": "3.13.0"
  }
 },
 "nbformat": 4,
 "nbformat_minor": 2
}
