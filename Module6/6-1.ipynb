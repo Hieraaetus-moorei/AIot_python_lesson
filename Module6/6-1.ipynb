{
 "cells": [
  {
   "cell_type": "code",
   "execution_count": 1,
   "metadata": {},
   "outputs": [
    {
     "name": "stdout",
     "output_type": "stream",
     "text": [
      "198964 8964 Xi the Pooh 198964\n",
      "This is printed from str magic function, Xi\n",
      "StevenJobs 8964 Xi the Pooh 198964\n"
     ]
    }
   ],
   "source": [
    "class SthSb:\n",
    "    # 放在 constructor 外：class attribute\n",
    "    class_attr = '198964'\n",
    "    # constructor 可自訂 arguments，self 必加且放首項，等同 this\n",
    "    def __init__(self, parameter1, parameter2):\n",
    "        # 上方設法表示 instantiate 時必須給兩個參數\n",
    "        self.name = 'Xi'\n",
    "        # attribute 亦可為 function 執行結果\n",
    "        self.combination = parameter1 + parameter2\n",
    "        self.exempli = 'Pooh'\n",
    "    # 可定義多個函數，不論是否要傳參數，皆須加 self\n",
    "    def gate_func(self):\n",
    "        return f'8964 {self.name} the {self.exempli} {SthSb.class_attr}'\n",
    "    def __str__(self):\n",
    "        return f'This is printed from str magic function, {self.name}'\n",
    "    \n",
    "# instantiate 該 class，意近 'new'\n",
    "sth = SthSb(89, 64)\n",
    "# 取用 attribute 與 method\n",
    "print(sth.class_attr, sth.gate_func())\n",
    "print(str(sth))\n",
    "\n",
    "# 可 new 多個，存入不同變數即可\n",
    "sb = SthSb('Steven', 'Jobs')\n",
    "print(sb.combination, sb.gate_func())\n"
   ]
  },
  {
   "cell_type": "code",
   "execution_count": null,
   "metadata": {},
   "outputs": [],
   "source": []
  },
  {
   "cell_type": "code",
   "execution_count": null,
   "metadata": {},
   "outputs": [],
   "source": [
    "# 類別名稱\n",
    "# 類別屬性 (Class Attribute)\n",
    "\n",
    "# 方法 (Method)\n"
   ]
  }
 ],
 "metadata": {
  "kernelspec": {
   "display_name": "Python 3",
   "language": "python",
   "name": "python3"
  },
  "language_info": {
   "codemirror_mode": {
    "name": "ipython",
    "version": 3
   },
   "file_extension": ".py",
   "mimetype": "text/x-python",
   "name": "python",
   "nbconvert_exporter": "python",
   "pygments_lexer": "ipython3",
   "version": "3.13.0"
  }
 },
 "nbformat": 4,
 "nbformat_minor": 2
}
