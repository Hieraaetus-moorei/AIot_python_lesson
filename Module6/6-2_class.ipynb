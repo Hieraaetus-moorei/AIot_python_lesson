{
 "cells": [
  {
   "cell_type": "markdown",
   "metadata": {},
   "source": [
    "##### Class 設計"
   ]
  },
  {
   "cell_type": "code",
   "execution_count": 5,
   "metadata": {},
   "outputs": [
    {
     "name": "stdout",
     "output_type": "stream",
     "text": [
      "[{'Database': 'information_schema'}, {'Database': 'my_database'}, {'Database': 'my_titanic'}, {'Database': 'my_train_titanic'}, {'Database': 'mysql'}, {'Database': 'performance_schema'}, {'Database': 'sakila'}, {'Database': 'servdb'}, {'Database': 'social_media_app'}, {'Database': 'sys'}, {'Database': 'transaction_test'}, {'Database': 'world'}]\n",
      "[{'Tables_in_my_titanic': 'full_passengers'}]\n"
     ]
    }
   ],
   "source": [
    "import pymysql\n",
    "# 將 5-1 sql 查詢 建成 class\n",
    "\n",
    "class SqlQuery:\n",
    "    # 建立 constructor，因為 db 要可改\n",
    "    def __init__(self, db):\n",
    "        self.connection = pymysql.connect(\n",
    "        host = 'localhost',\n",
    "        user = 'root',\n",
    "        password = 'P@ssw0rd',\n",
    "        port = 3306,\n",
    "        database = db,\n",
    "        cursorclass = pymysql.cursors.DictCursor\n",
    ")\n",
    "    # 查詢 databases 的 method\n",
    "    def db_query(self):\n",
    "        with self.connection.cursor() as cursor:\n",
    "            cursor.execute('SHOW DATABASES;')\n",
    "            result = cursor.fetchall()\n",
    "        return result\n",
    "    \n",
    "    # 查詢 table 的 method\n",
    "    def table_query(self):\n",
    "        with self.connection.cursor() as cursor:\n",
    "            cursor.execute('SHOW TABLES;')\n",
    "            result = cursor.fetchall()\n",
    "        return result\n",
    "\n",
    "db_qu = SqlQuery('my_titanic')\n",
    "print(db_qu.db_query())\n",
    "\n",
    "table_qu = SqlQuery('my_titanic')\n",
    "print(table_qu.table_query())\n"
   ]
  },
  {
   "cell_type": "code",
   "execution_count": 25,
   "metadata": {},
   "outputs": [
    {
     "name": "stdout",
     "output_type": "stream",
     "text": [
      "[{'Database': 'information_schema'}, {'Database': 'my_database'}, {'Database': 'my_titanic'}, {'Database': 'my_train_titanic'}, {'Database': 'mysql'}, {'Database': 'performance_schema'}, {'Database': 'sakila'}, {'Database': 'servdb'}, {'Database': 'social_media_app'}, {'Database': 'sys'}, {'Database': 'transaction_test'}, {'Database': 'world'}]\n"
     ]
    },
    {
     "data": {
      "text/plain": [
       "'A mehtod without self'"
      ]
     },
     "execution_count": 25,
     "metadata": {},
     "output_type": "execute_result"
    }
   ],
   "source": [
    "import configparser as cfp\n",
    "import pymysql.cursors\n",
    "\n",
    "class SqlQuery:\n",
    "    config = cfp.ConfigParser()\n",
    "    config.read('config.ini')\n",
    "\n",
    "    def __init__(self, db = None):\n",
    "        self.connection = pymysql.connect (\n",
    "            host = self.config['DB']['hostname'],\n",
    "            user = self.config['DB']['user'],\n",
    "            password = SqlQuery.config['DB']['password'],\n",
    "            port = int(SqlQuery.config['DB']['port']),\n",
    "            database = db,\n",
    "            cursorclass = pymysql.cursors.DictCursor\n",
    "        )\n",
    "\n",
    "    @property\n",
    "    def show_database(self):\n",
    "        with self.connection.cursor() as cursor:\n",
    "            cursor.execute('SHOW DATABASES;')\n",
    "            result = cursor.fetchall()\n",
    "        return result\n",
    "    \n",
    "\n",
    "    def show_tables(self):\n",
    "        with self.connection.cursor() as cursor:\n",
    "            cursor.execute('SHOW TABLES;')\n",
    "            result = cursor.fetchall()\n",
    "        return result\n",
    "    \n",
    "    @staticmethod\n",
    "    def test():\n",
    "        return 'A mehtod without self'\n",
    "\n",
    "database = SqlQuery().show_database\n",
    "print(database)\n",
    "\n",
    "my_titanic_conn = SqlQuery('my_titanic')\n",
    "my_titanic_conn.show_tables\n",
    "my_titanic_conn.test()\n",
    "\n"
   ]
  },
  {
   "cell_type": "markdown",
   "metadata": {},
   "source": [
    "##### 繼承"
   ]
  },
  {
   "cell_type": "code",
   "execution_count": null,
   "metadata": {},
   "outputs": [],
   "source": []
  }
 ],
 "metadata": {
  "kernelspec": {
   "display_name": "Python 3",
   "language": "python",
   "name": "python3"
  },
  "language_info": {
   "codemirror_mode": {
    "name": "ipython",
    "version": 3
   },
   "file_extension": ".py",
   "mimetype": "text/x-python",
   "name": "python",
   "nbconvert_exporter": "python",
   "pygments_lexer": "ipython3",
   "version": "3.13.0"
  }
 },
 "nbformat": 4,
 "nbformat_minor": 2
}
