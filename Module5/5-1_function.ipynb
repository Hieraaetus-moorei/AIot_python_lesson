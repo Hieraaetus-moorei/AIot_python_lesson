{
 "cells": [
  {
   "cell_type": "code",
   "execution_count": 1,
   "metadata": {},
   "outputs": [
    {
     "name": "stdout",
     "output_type": "stream",
     "text": [
      "198964\n"
     ]
    }
   ],
   "source": [
    "# 建立 function 1\n",
    "def print_out(sth = '198964'):\n",
    "    print(sth)\n",
    "print_out()"
   ]
  },
  {
   "cell_type": "code",
   "execution_count": 3,
   "metadata": {},
   "outputs": [
    {
     "name": "stdout",
     "output_type": "stream",
     "text": [
      "1100\n"
     ]
    }
   ],
   "source": [
    "# 建立 function 2\n",
    "bill = 1000\n",
    "def func(cash):\n",
    "    global bill\n",
    "    bill += cash\n",
    "    return bill\n",
    "func(100)\n",
    "\n",
    "print(bill)\n"
   ]
  },
  {
   "cell_type": "code",
   "execution_count": 4,
   "metadata": {},
   "outputs": [
    {
     "name": "stdout",
     "output_type": "stream",
     "text": [
      "200\n"
     ]
    }
   ],
   "source": [
    "# 建立 function 3\n",
    "func = lambda cash: cash + 100\n",
    "\n",
    "print(func(100))"
   ]
  },
  {
   "cell_type": "code",
   "execution_count": 6,
   "metadata": {},
   "outputs": [
    {
     "name": "stdout",
     "output_type": "stream",
     "text": [
      "2053\n"
     ]
    }
   ],
   "source": [
    "# 建立 function 4\n",
    "func4 = lambda a = 89, b = 64: a + b\n",
    "print(func4(1989, 64)) \n"
   ]
  },
  {
   "cell_type": "markdown",
   "metadata": {},
   "source": [
    "-----"
   ]
  },
  {
   "cell_type": "code",
   "execution_count": 7,
   "metadata": {},
   "outputs": [
    {
     "name": "stdout",
     "output_type": "stream",
     "text": [
      "Collecting pymysql\n",
      "  Downloading PyMySQL-1.1.1-py3-none-any.whl.metadata (4.4 kB)\n",
      "Downloading PyMySQL-1.1.1-py3-none-any.whl (44 kB)\n",
      "Installing collected packages: pymysql\n",
      "Successfully installed pymysql-1.1.1\n",
      "Note: you may need to restart the kernel to use updated packages.\n"
     ]
    }
   ],
   "source": [
    "# 改寫 Module2 practice\n",
    "%pip install pymysql\n",
    "\n",
    "\n",
    "\n"
   ]
  },
  {
   "cell_type": "markdown",
   "metadata": {},
   "source": [
    "### Using python to reach MySQL\n",
    "#### pymysql package"
   ]
  },
  {
   "cell_type": "code",
   "execution_count": 2,
   "metadata": {},
   "outputs": [
    {
     "name": "stdout",
     "output_type": "stream",
     "text": [
      "<pymysql.connections.Connection object at 0x0000022A1342CF50>\n",
      "(('information_schema',), ('my_database',), ('my_titanic',), ('my_train_titanic',), ('mysql',), ('performance_schema',), ('sakila',), ('servdb',), ('social_media_app',), ('sys',), ('transaction_test',), ('world',))\n",
      "(('full_passengers',),)\n"
     ]
    }
   ],
   "source": [
    "import pymysql\n",
    "\n",
    "connection = pymysql.connect(\n",
    "    host = 'localhost',\n",
    "    user = 'root',\n",
    "    password = 'P@ssw0rd',\n",
    "    port = 3306,\n",
    "    database = 'my_titanic'\n",
    ")\n",
    "\n",
    "print(connection)\n",
    "\n",
    "with connection.cursor() as cursor:\n",
    "    cursor.execute('SHOW DATABASES;')\n",
    "    result = cursor.fetchall()\n",
    "print(result)\n",
    "\n",
    "with connection.cursor() as cursor:\n",
    "    cursor.execute('SHOW TABLES;')\n",
    "    result = cursor.fetchall()\n",
    "print(result)\n"
   ]
  },
  {
   "cell_type": "markdown",
   "metadata": {},
   "source": [
    "#### Functionisation\n",
    "_Transform the aforesaid pymysql codes into a function_"
   ]
  },
  {
   "cell_type": "code",
   "execution_count": 17,
   "metadata": {},
   "outputs": [
    {
     "name": "stdout",
     "output_type": "stream",
     "text": [
      "full_passengers\n",
      "[{'id': 21,\n",
      "  'pclass': Decimal('1.00'),\n",
      "  'pname': 'Beckwith, Mr. Richard Leonard'},\n",
      " {'id': 443, 'pclass': Decimal('2.00'), 'pname': 'Hickman, Mr. Leonard Mark'},\n",
      " {'id': 473,\n",
      "  'pclass': Decimal('2.00'),\n",
      "  'pname': 'Kirkland, Rev. Charles Leonard'},\n",
      " {'id': 827,\n",
      "  'pclass': Decimal('3.00'),\n",
      "  'pname': 'Goodwin, Master. Sidney Leonard'},\n",
      " {'id': 1028, 'pclass': Decimal('3.00'), 'pname': 'Moore, Mr. Leonard Charles'},\n",
      " {'id': 1097,\n",
      "  'pclass': Decimal('3.00'),\n",
      "  'pname': 'Palsson, Master. Gosta Leonard'},\n",
      " {'id': 1240,\n",
      "  'pclass': Decimal('3.00'),\n",
      "  'pname': 'Theobald, Mr. Thomas Leonard'}]\n"
     ]
    }
   ],
   "source": [
    "def sql_query(db, sql): \n",
    "    connection = pymysql.connect(\n",
    "    host = 'localhost',\n",
    "    user = 'root',\n",
    "    password = 'P@ssw0rd',\n",
    "    port = 3306,\n",
    "    database = db,\n",
    "    cursorclass = pymysql.cursors.DictCursor\n",
    ")\n",
    "    with connection.cursor() as cursor:\n",
    "        cursor.execute(sql)\n",
    "        result = cursor.fetchall()\n",
    "    return result\n",
    "print(sql_query('my_titanic', 'SHOW TABLES;')[0]['Tables_in_my_titanic'])\n",
    "from pprint import pprint\n",
    "pprint(sql_query('my_titanic' , \"select id, pclass, pname from full_passengers where pname like '% Leonard%' and sex = 'male';\"))\n",
    "\n",
    "t = sql_query('my_titanic', 'SHOW TABLES;')[0]['Tables_in_my_titanic']\n",
    "\n",
    "\n",
    "\n"
   ]
  }
 ],
 "metadata": {
  "kernelspec": {
   "display_name": "Python 3",
   "language": "python",
   "name": "python3"
  },
  "language_info": {
   "codemirror_mode": {
    "name": "ipython",
    "version": 3
   },
   "file_extension": ".py",
   "mimetype": "text/x-python",
   "name": "python",
   "nbconvert_exporter": "python",
   "pygments_lexer": "ipython3",
   "version": "3.13.0"
  }
 },
 "nbformat": 4,
 "nbformat_minor": 2
}
