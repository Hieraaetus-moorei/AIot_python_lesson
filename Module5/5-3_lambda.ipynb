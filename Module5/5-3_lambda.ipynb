{
 "cells": [
  {
   "cell_type": "markdown",
   "metadata": {},
   "source": [
    "### lambda 匿名函式  \n",
    "用法  \n",
    "\n",
    "`lambda arguments: expression`"
   ]
  },
  {
   "cell_type": "code",
   "execution_count": null,
   "metadata": {},
   "outputs": [],
   "source": [
    "# 建立函式\n",
    "\n"
   ]
  },
  {
   "cell_type": "code",
   "execution_count": null,
   "metadata": {},
   "outputs": [],
   "source": [
    "# 基本用法\n",
    "\n"
   ]
  },
  {
   "cell_type": "code",
   "execution_count": null,
   "metadata": {},
   "outputs": [],
   "source": [
    "# 條件判斷\n",
    "\n"
   ]
  },
  {
   "cell_type": "code",
   "execution_count": null,
   "metadata": {},
   "outputs": [],
   "source": [
    "# 多參數\n",
    "\n"
   ]
  },
  {
   "cell_type": "markdown",
   "metadata": {},
   "source": [
    "### 小試身手  \n",
    "請建立一個 list ，並在該 list 內產生多個 `[1, 2, x]` 的 list (x 的值要遞增)  \n",
    "x 到 10 即可  \n",
    "Ex :  \n",
    "```Python\n",
    "[ [1, 2, 1], [1, 2, 2], [1, 2, 3]...[1, 2, 10] ]\n",
    "```"
   ]
  },
  {
   "cell_type": "code",
   "execution_count": 17,
   "metadata": {},
   "outputs": [
    {
     "name": "stdout",
     "output_type": "stream",
     "text": [
      "[[1, 2, 1], [1, 2, 2], [1, 2, 3], [1, 2, 4], [1, 2, 5], [1, 2, 6], [1, 2, 7], [1, 2, 8], [1, 2, 9], [1, 2, 10]]\n",
      "[[1, 2, 1], [1, 2, 2], [1, 2, 3], [1, 2, 4], [1, 2, 5], [1, 2, 6], [1, 2, 7], [1, 2, 8], [1, 2, 9], [1, 2, 10]]\n",
      "lambda:  [[1, 2, 1], [1, 2, 2], [1, 2, 3], [1, 2, 4], [1, 2, 5], [1, 2, 6], [1, 2, 7], [1, 2, 8], [1, 2, 9], [1, 2, 10]]\n"
     ]
    }
   ],
   "source": [
    "\n",
    "li = [[j for j in range(1, 3)] for i in range(1, 11) ]\n",
    "for i in range(len(li)):\n",
    "    li[i].append(i + 1)\n",
    "print(li)\n",
    "\n",
    "# 或\n",
    "lis = [[1, 2, i] for i in range(1, 11)]\n",
    "print(lis)\n",
    "\n",
    "li_lambda = lambda x: [[1, 2, i] for i in range(1, x)]\n",
    "print('lambda: ', li_lambda(11))\n"
   ]
  },
  {
   "cell_type": "markdown",
   "metadata": {},
   "source": [
    "##### `sort()` 方法"
   ]
  },
  {
   "cell_type": "code",
   "execution_count": 10,
   "metadata": {},
   "outputs": [
    {
     "name": "stdout",
     "output_type": "stream",
     "text": [
      "[[1, 2, 10], [1, 2, 9], [1, 2, 8], [1, 2, 7], [1, 2, 6], [1, 2, 5], [1, 2, 4], [1, 2, 3], [1, 2, 2], [1, 2, 1]]\n"
     ]
    }
   ],
   "source": [
    "lis.sort(reverse=True)\n",
    "print(lis)\n"
   ]
  },
  {
   "cell_type": "markdown",
   "metadata": {},
   "source": [
    "每三個 list 中間的值要改成 5  \n",
    "Ex:  \n",
    "```python\n",
    "[ [1, 2, 1], [1, 2, 2], [1, 5, 3], [1, 2, 4], [1, 2, 5], [1, 5, 6]...]\n",
    "```"
   ]
  },
  {
   "cell_type": "code",
   "execution_count": 13,
   "metadata": {},
   "outputs": [
    {
     "name": "stdout",
     "output_type": "stream",
     "text": [
      "[[1, 2, 1], [1, 2, 2], [1, 5, 3], [1, 2, 4], [1, 2, 5], [1, 5, 6], [1, 2, 7], [1, 2, 8], [1, 5, 9], [1, 2, 10]]\n"
     ]
    }
   ],
   "source": [
    "for i in range(0, len(lis) - 1):\n",
    "    if (i + 1) % 3 == 0:\n",
    "        lis[i][1] = 5\n",
    "print(lis)"
   ]
  },
  {
   "cell_type": "code",
   "execution_count": 14,
   "metadata": {},
   "outputs": [
    {
     "name": "stdout",
     "output_type": "stream",
     "text": [
      "[[1, 2, 10], [1, 5, 9], [1, 2, 8], [1, 2, 7], [1, 5, 6], [1, 2, 5], [1, 2, 4], [1, 5, 3], [1, 2, 2], [1, 2, 1]]\n"
     ]
    }
   ],
   "source": [
    "lis.sort(key= lambda x: x[2], reverse=True)\n",
    "print(lis)\n",
    "\n",
    "\n"
   ]
  }
 ],
 "metadata": {
  "kernelspec": {
   "display_name": "Python 3",
   "language": "python",
   "name": "python3"
  },
  "language_info": {
   "codemirror_mode": {
    "name": "ipython",
    "version": 3
   },
   "file_extension": ".py",
   "mimetype": "text/x-python",
   "name": "python",
   "nbconvert_exporter": "python",
   "pygments_lexer": "ipython3",
   "version": "3.13.0"
  }
 },
 "nbformat": 4,
 "nbformat_minor": 2
}
