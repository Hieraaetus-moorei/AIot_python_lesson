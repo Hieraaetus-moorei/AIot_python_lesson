{
 "cells": [
  {
   "cell_type": "code",
   "execution_count": 7,
   "metadata": {},
   "outputs": [
    {
     "name": "stdout",
     "output_type": "stream",
     "text": [
      "{'apple': 20, 'orange': 30, 'tomato': 200}\n"
     ]
    }
   ],
   "source": [
    "# 初始化 dict\n",
    "di = {'apple': 20, 'orange' : 30, 'tomato': 200}\n",
    "print(di)\n",
    "\n"
   ]
  },
  {
   "cell_type": "code",
   "execution_count": 3,
   "metadata": {},
   "outputs": [
    {
     "name": "stdout",
     "output_type": "stream",
     "text": [
      "20\n"
     ]
    }
   ],
   "source": [
    "# 印出 蘋果的價格\n",
    "print(di['apple'])\n"
   ]
  },
  {
   "cell_type": "code",
   "execution_count": 4,
   "metadata": {},
   "outputs": [
    {
     "name": "stdout",
     "output_type": "stream",
     "text": [
      "25\n"
     ]
    }
   ],
   "source": [
    "# 修改 橘子的價格\n",
    "di['orange'] = 25\n",
    "print(di['orange'])\n"
   ]
  },
  {
   "cell_type": "code",
   "execution_count": 8,
   "metadata": {},
   "outputs": [
    {
     "name": "stdout",
     "output_type": "stream",
     "text": [
      "{'apple': 20, 'orange': 30}\n"
     ]
    }
   ],
   "source": [
    "# 刪除 番茄\n",
    "del di['tomato']\n",
    "print(di)\n",
    "\n",
    "\n"
   ]
  },
  {
   "cell_type": "code",
   "execution_count": 13,
   "metadata": {},
   "outputs": [
    {
     "name": "stdout",
     "output_type": "stream",
     "text": [
      "{'sample': 'not important', 'di': {'apple': 20, 'orange': 30}, 'Xi': 'pooh', 'nickname': 'boatman', 'favourite': 'Hitler', 'phone_number': ['0123456789', '0912345678', '0800061000']}\n"
     ]
    }
   ],
   "source": [
    "# 建立一個 value 含有 dict 的 dict\n",
    "nest_di = {'sample': 'not important', 'di': di, 'Xi': 'pooh', 'nickname': 'boatman', 'favourite': 'Hitler', 'phone_number': ['0123456789', '0912345678', '0800061000']}\n",
    "print(nest_di)\n"
   ]
  },
  {
   "cell_type": "code",
   "execution_count": 14,
   "metadata": {},
   "outputs": [
    {
     "name": "stdout",
     "output_type": "stream",
     "text": [
      "boatman\n",
      "pooh\n",
      "{'apple': 20, 'orange': 30}\n"
     ]
    }
   ],
   "source": [
    "# 取得 nickname\n",
    "print(nest_di['nickname'])\n",
    "print(nest_di['Xi'])\n",
    "print(nest_di['di'])\n",
    "\n"
   ]
  },
  {
   "cell_type": "code",
   "execution_count": 15,
   "metadata": {},
   "outputs": [
    {
     "name": "stdout",
     "output_type": "stream",
     "text": [
      "['0123456789', '0912345678', '0800061000']\n"
     ]
    }
   ],
   "source": [
    "# 取得所有 phone_number\n",
    "print(nest_di['phone_number'[:]])\n"
   ]
  },
  {
   "cell_type": "markdown",
   "metadata": {},
   "source": [
    "---"
   ]
  },
  {
   "cell_type": "code",
   "execution_count": null,
   "metadata": {},
   "outputs": [],
   "source": [
    "'''\n",
    "改寫 fruit_dict 每個水果需要 price, quantity/amount, color\n",
    "apple 有 綠色 和 紅色\n",
    "orange 有 橘色\n",
    "tomato 有 紅色\n",
    "'''\n",
    "\n",
    "\n"
   ]
  },
  {
   "cell_type": "markdown",
   "metadata": {},
   "source": [
    "##### dict 的合併"
   ]
  },
  {
   "cell_type": "code",
   "execution_count": null,
   "metadata": {},
   "outputs": [],
   "source": [
    "# dict 的合併"
   ]
  },
  {
   "cell_type": "markdown",
   "metadata": {},
   "source": [
    "##### 另外的 print 方式 `pprint` (pretty-print) "
   ]
  },
  {
   "cell_type": "code",
   "execution_count": 2,
   "metadata": {},
   "outputs": [],
   "source": [
    "# 從 Module 引入 function\n"
   ]
  },
  {
   "cell_type": "code",
   "execution_count": null,
   "metadata": {},
   "outputs": [],
   "source": [
    "'''\n",
    "新增顏色\n",
    "apple 有新的品種 顏色要有黃色\n",
    "tomato 有綠色\n",
    "'''"
   ]
  }
 ],
 "metadata": {
  "kernelspec": {
   "display_name": "Python 3",
   "language": "python",
   "name": "python3"
  },
  "language_info": {
   "codemirror_mode": {
    "name": "ipython",
    "version": 3
   },
   "file_extension": ".py",
   "mimetype": "text/x-python",
   "name": "python",
   "nbconvert_exporter": "python",
   "pygments_lexer": "ipython3",
   "version": "3.13.0"
  }
 },
 "nbformat": 4,
 "nbformat_minor": 2
}
