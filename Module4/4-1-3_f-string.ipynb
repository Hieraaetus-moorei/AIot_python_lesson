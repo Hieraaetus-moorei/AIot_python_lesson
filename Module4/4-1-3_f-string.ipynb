{
 "cells": [
  {
   "cell_type": "code",
   "execution_count": 1,
   "metadata": {},
   "outputs": [
    {
     "name": "stdout",
     "output_type": "stream",
     "text": [
      "Xi is also called pooh\n"
     ]
    }
   ],
   "source": [
    "# f-string (又稱作 formatted string literals, version >= 3.6)\n",
    "\n",
    "fst = 'pooh'\n",
    "print(f'Xi is also called {fst}')\n"
   ]
  },
  {
   "cell_type": "code",
   "execution_count": 5,
   "metadata": {},
   "outputs": [
    {
     "name": "stdout",
     "output_type": "stream",
     "text": [
      "[19890604            ]\n",
      "[            19890604]\n"
     ]
    }
   ],
   "source": [
    "# 靠左對齊、靠右對齊\n",
    "da = '19890604'\n",
    "print(f'[{da:<20}]')\n",
    "print(f'[{da:>20}]')"
   ]
  },
  {
   "cell_type": "code",
   "execution_count": 9,
   "metadata": {},
   "outputs": [
    {
     "name": "stdout",
     "output_type": "stream",
     "text": [
      "198964ssssssssssssss\n",
      "ssssssssssssss198964\n"
     ]
    }
   ],
   "source": [
    "# 靠左對齊、靠右對齊，字數不足，補「s」\n",
    "# (沒寫補什麼，預設空格)\n",
    "dat = '198964'\n",
    "print(f'{dat:s<20}')\n",
    "print(f'{dat:s>20}')\n",
    "\n"
   ]
  },
  {
   "cell_type": "code",
   "execution_count": 10,
   "metadata": {},
   "outputs": [
    {
     "name": "stdout",
     "output_type": "stream",
     "text": [
      "sssss1989.06.04sssss\n"
     ]
    }
   ],
   "source": [
    "# 置中對齊\n",
    "dat = '1989.06.04'\n",
    "print(f'{dat:s^20}')\n"
   ]
  },
  {
   "cell_type": "code",
   "execution_count": 11,
   "metadata": {},
   "outputs": [
    {
     "name": "stdout",
     "output_type": "stream",
     "text": [
      "19\n"
     ]
    }
   ],
   "source": [
    "# 指定文字長度上限 (只有文字，才在格式化字串中加入「.」來限定字串長度)\n",
    "dat = '1989.06.04'\n",
    "print(f'{dat:s<2.2}')\n",
    "\n",
    "\n",
    "\n"
   ]
  }
 ],
 "metadata": {
  "kernelspec": {
   "display_name": "Python 3",
   "language": "python",
   "name": "python3"
  },
  "language_info": {
   "codemirror_mode": {
    "name": "ipython",
    "version": 3
   },
   "file_extension": ".py",
   "mimetype": "text/x-python",
   "name": "python",
   "nbconvert_exporter": "python",
   "pygments_lexer": "ipython3",
   "version": "3.13.0"
  }
 },
 "nbformat": 4,
 "nbformat_minor": 2
}
