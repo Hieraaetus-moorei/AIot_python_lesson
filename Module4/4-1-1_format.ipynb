{
 "cells": [
  {
   "cell_type": "markdown",
   "metadata": {},
   "source": [
    "|語法|說明|\n",
    "|:---:|:---:|\n",
    "| |插入  的值到字串中|\n",
    "| |插入  的值到字串中|\n",
    "| |插入  的值到字串中|\n",
    "| |輸出  (類似跳脫字元)|"
   ]
  },
  {
   "cell_type": "code",
   "execution_count": 2,
   "metadata": {},
   "outputs": [
    {
     "name": "stdout",
     "output_type": "stream",
     "text": [
      "sth not important\n"
     ]
    }
   ],
   "source": [
    "# 多組文字\n",
    "st = 'sth %s' %'not important'\n",
    "print(st)"
   ]
  },
  {
   "cell_type": "code",
   "execution_count": 4,
   "metadata": {},
   "outputs": [
    {
     "name": "stdout",
     "output_type": "stream",
     "text": [
      "1 + 3 = 5\n"
     ]
    }
   ],
   "source": [
    "# 整數\n",
    "sth = '1 + 3 = %d' %5\n",
    "print(sth)\n"
   ]
  },
  {
   "cell_type": "code",
   "execution_count": 5,
   "metadata": {},
   "outputs": [
    {
     "name": "stdout",
     "output_type": "stream",
     "text": [
      "1989 + 64 = 天安門\n"
     ]
    }
   ],
   "source": [
    "# 文字與整數\n",
    "com = '1989 + %d = %s' %(64, '天安門')\n",
    "print(com)\n"
   ]
  },
  {
   "cell_type": "code",
   "execution_count": 9,
   "metadata": {},
   "outputs": [
    {
     "name": "stdout",
     "output_type": "stream",
     "text": [
      "[      test]\n"
     ]
    }
   ],
   "source": [
    "# 指定寬度 (維持 10 個字元長度，預設向右看齊)\n",
    "print('[%10s]' %'test')\n"
   ]
  },
  {
   "cell_type": "code",
   "execution_count": 10,
   "metadata": {},
   "outputs": [
    {
     "name": "stdout",
     "output_type": "stream",
     "text": [
      "[test      ]\n"
     ]
    }
   ],
   "source": [
    "# 靠左對齊 (維持 10 個字元長度，向左對齊)\n",
    "print('[%-10s]' %'test')\n",
    "\n"
   ]
  },
  {
   "cell_type": "code",
   "execution_count": 12,
   "metadata": {},
   "outputs": [
    {
     "name": "stdout",
     "output_type": "stream",
     "text": [
      "3.142\n"
     ]
    }
   ],
   "source": [
    "# 指定浮點數位數\n",
    "print('%.3f' %3.1415926)\n"
   ]
  },
  {
   "cell_type": "code",
   "execution_count": 13,
   "metadata": {},
   "outputs": [
    {
     "name": "stdout",
     "output_type": "stream",
     "text": [
      "Just\n"
     ]
    }
   ],
   "source": [
    "# 指定文字長度上限 (只有文字，才在格式化字串中加入「.」來限定字串長度)\n",
    "print('%.4s' %'Just a test')\n"
   ]
  },
  {
   "cell_type": "code",
   "execution_count": 14,
   "metadata": {},
   "outputs": [
    {
     "name": "stdout",
     "output_type": "stream",
     "text": [
      "3.142\n"
     ]
    }
   ],
   "source": [
    "# 空白補 0\n",
    "print('%04.3f' %3.1415926)\n"
   ]
  }
 ],
 "metadata": {
  "kernelspec": {
   "display_name": "Python 3",
   "language": "python",
   "name": "python3"
  },
  "language_info": {
   "codemirror_mode": {
    "name": "ipython",
    "version": 3
   },
   "file_extension": ".py",
   "mimetype": "text/x-python",
   "name": "python",
   "nbconvert_exporter": "python",
   "pygments_lexer": "ipython3",
   "version": "3.13.0"
  }
 },
 "nbformat": 4,
 "nbformat_minor": 2
}
